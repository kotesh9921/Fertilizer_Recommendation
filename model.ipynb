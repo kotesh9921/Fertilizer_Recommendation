{
 "cells": [
  {
   "cell_type": "code",
   "execution_count": 1,
   "id": "8e3ca30e",
   "metadata": {},
   "outputs": [],
   "source": [
    "from pandas import *"
   ]
  },
  {
   "cell_type": "code",
   "execution_count": 2,
   "id": "eb52ad87",
   "metadata": {},
   "outputs": [],
   "source": [
    "import warnings as war\n",
    "war.filterwarnings(\"ignore\")"
   ]
  },
  {
   "cell_type": "code",
   "execution_count": 3,
   "id": "5fdca3d0",
   "metadata": {},
   "outputs": [],
   "source": [
    "d=read_excel(\"dp_dataset.xlsx\")"
   ]
  },
  {
   "cell_type": "code",
   "execution_count": 4,
   "id": "da034fc4",
   "metadata": {},
   "outputs": [
    {
     "data": {
      "text/html": [
       "<div>\n",
       "<style scoped>\n",
       "    .dataframe tbody tr th:only-of-type {\n",
       "        vertical-align: middle;\n",
       "    }\n",
       "\n",
       "    .dataframe tbody tr th {\n",
       "        vertical-align: top;\n",
       "    }\n",
       "\n",
       "    .dataframe thead th {\n",
       "        text-align: right;\n",
       "    }\n",
       "</style>\n",
       "<table border=\"1\" class=\"dataframe\">\n",
       "  <thead>\n",
       "    <tr style=\"text-align: right;\">\n",
       "      <th></th>\n",
       "      <th>Soil_color</th>\n",
       "      <th>Nitrogen</th>\n",
       "      <th>Phosphorus</th>\n",
       "      <th>Potassium</th>\n",
       "      <th>pH</th>\n",
       "      <th>Rainfall</th>\n",
       "      <th>Temperature</th>\n",
       "      <th>Crop</th>\n",
       "      <th>Fertilizer</th>\n",
       "    </tr>\n",
       "  </thead>\n",
       "  <tbody>\n",
       "    <tr>\n",
       "      <th>0</th>\n",
       "      <td>Black</td>\n",
       "      <td>75</td>\n",
       "      <td>50</td>\n",
       "      <td>100</td>\n",
       "      <td>6.5</td>\n",
       "      <td>1000</td>\n",
       "      <td>20</td>\n",
       "      <td>Sugarcane</td>\n",
       "      <td>Urea</td>\n",
       "    </tr>\n",
       "    <tr>\n",
       "      <th>1</th>\n",
       "      <td>Black</td>\n",
       "      <td>80</td>\n",
       "      <td>50</td>\n",
       "      <td>100</td>\n",
       "      <td>6.5</td>\n",
       "      <td>1000</td>\n",
       "      <td>20</td>\n",
       "      <td>Sugarcane</td>\n",
       "      <td>Urea</td>\n",
       "    </tr>\n",
       "    <tr>\n",
       "      <th>2</th>\n",
       "      <td>Black</td>\n",
       "      <td>85</td>\n",
       "      <td>50</td>\n",
       "      <td>100</td>\n",
       "      <td>6.5</td>\n",
       "      <td>1000</td>\n",
       "      <td>20</td>\n",
       "      <td>Sugarcane</td>\n",
       "      <td>Urea</td>\n",
       "    </tr>\n",
       "    <tr>\n",
       "      <th>3</th>\n",
       "      <td>Black</td>\n",
       "      <td>90</td>\n",
       "      <td>50</td>\n",
       "      <td>100</td>\n",
       "      <td>6.5</td>\n",
       "      <td>1000</td>\n",
       "      <td>20</td>\n",
       "      <td>Sugarcane</td>\n",
       "      <td>Urea</td>\n",
       "    </tr>\n",
       "    <tr>\n",
       "      <th>4</th>\n",
       "      <td>Black</td>\n",
       "      <td>95</td>\n",
       "      <td>50</td>\n",
       "      <td>100</td>\n",
       "      <td>6.5</td>\n",
       "      <td>1000</td>\n",
       "      <td>20</td>\n",
       "      <td>Sugarcane</td>\n",
       "      <td>Urea</td>\n",
       "    </tr>\n",
       "    <tr>\n",
       "      <th>...</th>\n",
       "      <td>...</td>\n",
       "      <td>...</td>\n",
       "      <td>...</td>\n",
       "      <td>...</td>\n",
       "      <td>...</td>\n",
       "      <td>...</td>\n",
       "      <td>...</td>\n",
       "      <td>...</td>\n",
       "      <td>...</td>\n",
       "    </tr>\n",
       "    <tr>\n",
       "      <th>4508</th>\n",
       "      <td>Black</td>\n",
       "      <td>130</td>\n",
       "      <td>80</td>\n",
       "      <td>150</td>\n",
       "      <td>7.0</td>\n",
       "      <td>1400</td>\n",
       "      <td>30</td>\n",
       "      <td>Sugarcane</td>\n",
       "      <td>MOP</td>\n",
       "    </tr>\n",
       "    <tr>\n",
       "      <th>4509</th>\n",
       "      <td>Black</td>\n",
       "      <td>135</td>\n",
       "      <td>80</td>\n",
       "      <td>150</td>\n",
       "      <td>7.0</td>\n",
       "      <td>1400</td>\n",
       "      <td>30</td>\n",
       "      <td>Sugarcane</td>\n",
       "      <td>MOP</td>\n",
       "    </tr>\n",
       "    <tr>\n",
       "      <th>4510</th>\n",
       "      <td>Black</td>\n",
       "      <td>140</td>\n",
       "      <td>80</td>\n",
       "      <td>150</td>\n",
       "      <td>7.0</td>\n",
       "      <td>1400</td>\n",
       "      <td>30</td>\n",
       "      <td>Sugarcane</td>\n",
       "      <td>MOP</td>\n",
       "    </tr>\n",
       "    <tr>\n",
       "      <th>4511</th>\n",
       "      <td>Black</td>\n",
       "      <td>145</td>\n",
       "      <td>80</td>\n",
       "      <td>150</td>\n",
       "      <td>7.0</td>\n",
       "      <td>1400</td>\n",
       "      <td>30</td>\n",
       "      <td>Sugarcane</td>\n",
       "      <td>MOP</td>\n",
       "    </tr>\n",
       "    <tr>\n",
       "      <th>4512</th>\n",
       "      <td>Black</td>\n",
       "      <td>150</td>\n",
       "      <td>80</td>\n",
       "      <td>150</td>\n",
       "      <td>7.0</td>\n",
       "      <td>1400</td>\n",
       "      <td>30</td>\n",
       "      <td>Sugarcane</td>\n",
       "      <td>MOP</td>\n",
       "    </tr>\n",
       "  </tbody>\n",
       "</table>\n",
       "<p>4513 rows × 9 columns</p>\n",
       "</div>"
      ],
      "text/plain": [
       "     Soil_color  Nitrogen  Phosphorus  Potassium   pH  Rainfall  Temperature  \\\n",
       "0         Black        75          50        100  6.5      1000           20   \n",
       "1         Black        80          50        100  6.5      1000           20   \n",
       "2         Black        85          50        100  6.5      1000           20   \n",
       "3         Black        90          50        100  6.5      1000           20   \n",
       "4         Black        95          50        100  6.5      1000           20   \n",
       "...         ...       ...         ...        ...  ...       ...          ...   \n",
       "4508      Black       130          80        150  7.0      1400           30   \n",
       "4509      Black       135          80        150  7.0      1400           30   \n",
       "4510      Black       140          80        150  7.0      1400           30   \n",
       "4511      Black       145          80        150  7.0      1400           30   \n",
       "4512      Black       150          80        150  7.0      1400           30   \n",
       "\n",
       "           Crop Fertilizer  \n",
       "0     Sugarcane       Urea  \n",
       "1     Sugarcane       Urea  \n",
       "2     Sugarcane       Urea  \n",
       "3     Sugarcane       Urea  \n",
       "4     Sugarcane       Urea  \n",
       "...         ...        ...  \n",
       "4508  Sugarcane        MOP  \n",
       "4509  Sugarcane        MOP  \n",
       "4510  Sugarcane        MOP  \n",
       "4511  Sugarcane        MOP  \n",
       "4512  Sugarcane        MOP  \n",
       "\n",
       "[4513 rows x 9 columns]"
      ]
     },
     "execution_count": 4,
     "metadata": {},
     "output_type": "execute_result"
    }
   ],
   "source": [
    "d"
   ]
  },
  {
   "cell_type": "code",
   "execution_count": 5,
   "id": "95f297fc",
   "metadata": {},
   "outputs": [
    {
     "name": "stdout",
     "output_type": "stream",
     "text": [
      "<class 'pandas.core.frame.DataFrame'>\n",
      "RangeIndex: 4513 entries, 0 to 4512\n",
      "Data columns (total 9 columns):\n",
      " #   Column       Non-Null Count  Dtype  \n",
      "---  ------       --------------  -----  \n",
      " 0   Soil_color   4513 non-null   object \n",
      " 1   Nitrogen     4513 non-null   int64  \n",
      " 2   Phosphorus   4513 non-null   int64  \n",
      " 3   Potassium    4513 non-null   int64  \n",
      " 4   pH           4513 non-null   float64\n",
      " 5   Rainfall     4513 non-null   int64  \n",
      " 6   Temperature  4513 non-null   int64  \n",
      " 7   Crop         4513 non-null   object \n",
      " 8   Fertilizer   4513 non-null   object \n",
      "dtypes: float64(1), int64(5), object(3)\n",
      "memory usage: 317.4+ KB\n"
     ]
    }
   ],
   "source": [
    "d.info()"
   ]
  },
  {
   "cell_type": "code",
   "execution_count": 6,
   "id": "77442598",
   "metadata": {},
   "outputs": [],
   "source": [
    "from sklearn.preprocessing import *"
   ]
  },
  {
   "cell_type": "code",
   "execution_count": 7,
   "id": "8f4f5a04",
   "metadata": {},
   "outputs": [
    {
     "data": {
      "text/plain": [
       "Soil_color\n",
       "Black            2260\n",
       "Red              1224\n",
       "Dark Brown        659\n",
       "Reddish Brown     265\n",
       "Light Brown        54\n",
       "Medium Brown       51\n",
       "Name: count, dtype: int64"
      ]
     },
     "execution_count": 7,
     "metadata": {},
     "output_type": "execute_result"
    }
   ],
   "source": [
    "d[\"Soil_color\"].value_counts()"
   ]
  },
  {
   "cell_type": "code",
   "execution_count": 8,
   "id": "c83d4e45",
   "metadata": {},
   "outputs": [
    {
     "data": {
      "text/plain": [
       "Crop\n",
       "Sugarcane    1010\n",
       "Wheat         859\n",
       "Cotton        650\n",
       "Jowar         394\n",
       "Maize         350\n",
       "Rice          309\n",
       "Groundnut     177\n",
       "Tur           126\n",
       "Ginger        125\n",
       "Grapes        125\n",
       "Urad           99\n",
       "Moong          99\n",
       "Gram           78\n",
       "Turmeric       55\n",
       "Soybean        45\n",
       "Masoor         12\n",
       "Name: count, dtype: int64"
      ]
     },
     "execution_count": 8,
     "metadata": {},
     "output_type": "execute_result"
    }
   ],
   "source": [
    "d[\"Crop\"].value_counts()"
   ]
  },
  {
   "cell_type": "code",
   "execution_count": 9,
   "id": "5cc289e5",
   "metadata": {},
   "outputs": [
    {
     "data": {
      "text/plain": [
       "Fertilizer\n",
       "Urea                      1364\n",
       "DAP                        667\n",
       "MOP                        571\n",
       "19:19:19 NPK               480\n",
       "SSP                        417\n",
       "Magnesium Sulphate         215\n",
       "10:26:26 NPK               156\n",
       "50:26:26 NPK               124\n",
       "Chilated Micronutrient     108\n",
       "12:32:16 NPK               106\n",
       "Ferrous Sulphate            68\n",
       "13:32:26 NPK                66\n",
       "Ammonium Sulphate           50\n",
       "10:10:10 NPK                50\n",
       "Hydrated Lime               25\n",
       "White Potash                19\n",
       "20:20:20 NPK                15\n",
       "18:46:00 NPK                 6\n",
       "Sulphur                      6\n",
       "Name: count, dtype: int64"
      ]
     },
     "execution_count": 9,
     "metadata": {},
     "output_type": "execute_result"
    }
   ],
   "source": [
    "d[\"Fertilizer\"].value_counts()"
   ]
  },
  {
   "cell_type": "code",
   "execution_count": 10,
   "id": "7ca12094",
   "metadata": {},
   "outputs": [],
   "source": [
    "l=LabelEncoder().fit(d[\"Fertilizer\"])\n",
    "d[\"Fertilizer\"]=l.transform(d[\"Fertilizer\"])"
   ]
  },
  {
   "cell_type": "code",
   "execution_count": 11,
   "id": "f1471521",
   "metadata": {},
   "outputs": [],
   "source": [
    "m=LabelEncoder().fit(d[\"Crop\"])\n",
    "d[\"Crop\"]=m.transform(d[\"Crop\"])"
   ]
  },
  {
   "cell_type": "code",
   "execution_count": 12,
   "id": "08d74bae",
   "metadata": {},
   "outputs": [],
   "source": [
    "m=LabelEncoder().fit(d[\"Soil_color\"])\n",
    "d[\"Soil_color\"]=m.transform(d[\"Soil_color\"])"
   ]
  },
  {
   "cell_type": "code",
   "execution_count": 13,
   "id": "993e6714",
   "metadata": {},
   "outputs": [],
   "source": [
    "from sklearn.model_selection import *\n",
    "x=d.drop(\"Fertilizer\",axis=1)\n",
    "y=d[\"Fertilizer\"]\n",
    "x_train,x_test,y_train,y_test=train_test_split(x,y,test_size=0.2,stratify=y)"
   ]
  },
  {
   "cell_type": "code",
   "execution_count": 14,
   "id": "ca4d9748",
   "metadata": {},
   "outputs": [],
   "source": [
    "from sklearn.linear_model import LogisticRegression"
   ]
  },
  {
   "cell_type": "code",
   "execution_count": 15,
   "id": "44de5f80",
   "metadata": {},
   "outputs": [],
   "source": [
    "lr=LogisticRegression().fit(x_train,y_train)"
   ]
  },
  {
   "cell_type": "code",
   "execution_count": 16,
   "id": "35f05834",
   "metadata": {},
   "outputs": [],
   "source": [
    "pred=lr.predict(x_test)"
   ]
  },
  {
   "cell_type": "code",
   "execution_count": 17,
   "id": "8d82aa9b",
   "metadata": {},
   "outputs": [
    {
     "name": "stdout",
     "output_type": "stream",
     "text": [
      "              precision    recall  f1-score   support\n",
      "\n",
      "           0       0.10      0.33      0.15         3\n",
      "           1       0.00      0.00      0.00         0\n",
      "           2       0.00      0.00      0.00         0\n",
      "           3       0.00      0.00      0.00         0\n",
      "           4       0.00      0.00      0.00         0\n",
      "           5       0.04      0.50      0.08         8\n",
      "           6       0.00      0.00      0.00         0\n",
      "           7       0.32      0.28      0.30        29\n",
      "           8       0.00      0.00      0.00         0\n",
      "           9       0.32      0.33      0.33        21\n",
      "          10       0.34      0.38      0.36       117\n",
      "          11       0.36      0.38      0.37        13\n",
      "          12       0.00      0.00      0.00         0\n",
      "          13       0.05      0.50      0.10        12\n",
      "          14       0.19      0.31      0.23        26\n",
      "          15       0.31      0.29      0.30        90\n",
      "          16       0.00      0.00      0.00         0\n",
      "          17       0.83      0.39      0.53       584\n",
      "          18       0.00      0.00      0.00         0\n",
      "\n",
      "    accuracy                           0.37       903\n",
      "   macro avg       0.15      0.19      0.14       903\n",
      "weighted avg       0.64      0.37      0.45       903\n",
      "\n"
     ]
    }
   ],
   "source": [
    "from sklearn.metrics import *\n",
    "print(classification_report(pred,y_test))"
   ]
  },
  {
   "cell_type": "code",
   "execution_count": 18,
   "id": "60922b7d",
   "metadata": {},
   "outputs": [
    {
     "name": "stdout",
     "output_type": "stream",
     "text": [
      "              precision    recall  f1-score   support\n",
      "\n",
      "           0       0.90      1.00      0.95         9\n",
      "           1       0.94      1.00      0.97        29\n",
      "           2       0.95      0.95      0.95        21\n",
      "           3       1.00      1.00      1.00        13\n",
      "           4       1.00      0.50      0.67         2\n",
      "           5       0.99      0.95      0.97       100\n",
      "           6       1.00      1.00      1.00         3\n",
      "           7       0.92      1.00      0.96        23\n",
      "           8       1.00      1.00      1.00        10\n",
      "           9       1.00      0.92      0.96        24\n",
      "          10       0.99      0.96      0.97       137\n",
      "          11       1.00      0.93      0.97        15\n",
      "          12       1.00      1.00      1.00         5\n",
      "          13       0.93      0.95      0.94       111\n",
      "          14       0.93      1.00      0.96        40\n",
      "          15       0.89      0.94      0.91        79\n",
      "          16       1.00      1.00      1.00         1\n",
      "          17       0.97      0.95      0.96       278\n",
      "          18       0.25      0.33      0.29         3\n",
      "\n",
      "    accuracy                           0.95       903\n",
      "   macro avg       0.93      0.92      0.92       903\n",
      "weighted avg       0.96      0.95      0.95       903\n",
      "\n"
     ]
    }
   ],
   "source": [
    "from sklearn.ensemble import *\n",
    "lr=RandomForestClassifier().fit(x_train,y_train)\n",
    "pred=lr.predict(x_test)\n",
    "print(classification_report(pred,y_test))"
   ]
  },
  {
   "cell_type": "code",
   "execution_count": 19,
   "id": "14f79f83",
   "metadata": {},
   "outputs": [
    {
     "name": "stdout",
     "output_type": "stream",
     "text": [
      "              precision    recall  f1-score   support\n",
      "\n",
      "           0       1.00      1.00      1.00        10\n",
      "           1       0.94      0.97      0.95        30\n",
      "           2       0.95      1.00      0.98        20\n",
      "           3       1.00      1.00      1.00        13\n",
      "           4       1.00      1.00      1.00         1\n",
      "           5       0.98      0.97      0.97        97\n",
      "           6       1.00      1.00      1.00         3\n",
      "           7       0.96      1.00      0.98        24\n",
      "           8       1.00      1.00      1.00        10\n",
      "           9       1.00      0.88      0.94        25\n",
      "          10       1.00      0.98      0.99       137\n",
      "          11       1.00      1.00      1.00        14\n",
      "          12       1.00      1.00      1.00         5\n",
      "          13       0.93      0.98      0.95       108\n",
      "          14       0.98      1.00      0.99        42\n",
      "          15       0.90      0.94      0.92        80\n",
      "          16       1.00      1.00      1.00         1\n",
      "          17       0.98      0.95      0.96       281\n",
      "          18       0.25      0.50      0.33         2\n",
      "\n",
      "    accuracy                           0.96       903\n",
      "   macro avg       0.94      0.96      0.95       903\n",
      "weighted avg       0.97      0.96      0.97       903\n",
      "\n"
     ]
    }
   ],
   "source": [
    "lr=ExtraTreesClassifier().fit(x_train,y_train)\n",
    "pred=lr.predict(x_test)\n",
    "print(classification_report(pred,y_test))"
   ]
  },
  {
   "cell_type": "code",
   "execution_count": 20,
   "id": "fb1f0491",
   "metadata": {},
   "outputs": [
    {
     "name": "stdout",
     "output_type": "stream",
     "text": [
      "              precision    recall  f1-score   support\n",
      "\n",
      "           0       1.00      1.00      1.00        10\n",
      "           1       1.00      1.00      1.00        31\n",
      "           2       0.95      1.00      0.98        20\n",
      "           3       1.00      1.00      1.00        13\n",
      "           4       1.00      1.00      1.00         1\n",
      "           5       0.96      0.92      0.94       100\n",
      "           6       1.00      1.00      1.00         3\n",
      "           7       0.96      1.00      0.98        24\n",
      "           8       1.00      1.00      1.00        10\n",
      "           9       1.00      1.00      1.00        22\n",
      "          10       0.99      0.92      0.96       144\n",
      "          11       1.00      1.00      1.00        14\n",
      "          12       1.00      1.00      1.00         5\n",
      "          13       0.92      0.96      0.94       109\n",
      "          14       0.98      1.00      0.99        42\n",
      "          15       0.94      0.99      0.96        79\n",
      "          16       1.00      1.00      1.00         1\n",
      "          17       0.95      0.95      0.95       273\n",
      "          18       0.25      0.50      0.33         2\n",
      "\n",
      "    accuracy                           0.96       903\n",
      "   macro avg       0.94      0.96      0.95       903\n",
      "weighted avg       0.96      0.96      0.96       903\n",
      "\n"
     ]
    }
   ],
   "source": [
    "from sklearn.tree import *\n",
    "lr=DecisionTreeClassifier().fit(x_train,y_train)\n",
    "pred=lr.predict(x_test)\n",
    "print(classification_report(pred,y_test))"
   ]
  },
  {
   "cell_type": "code",
   "execution_count": 22,
   "id": "f94fe3ec",
   "metadata": {},
   "outputs": [
    {
     "data": {
      "text/plain": [
       "['model.pkl']"
      ]
     },
     "execution_count": 22,
     "metadata": {},
     "output_type": "execute_result"
    }
   ],
   "source": [
    "import joblib \n",
    "joblib.dump(lr,\"model.pkl\")"
   ]
  },
  {
   "cell_type": "code",
   "execution_count": 23,
   "id": "45122691",
   "metadata": {},
   "outputs": [
    {
     "data": {
      "text/plain": [
       "2"
      ]
     },
     "execution_count": 23,
     "metadata": {},
     "output_type": "execute_result"
    }
   ],
   "source": [
    "from numpy import *\n",
    "lr=joblib.load(\"model.pkl\")\n",
    "lr.predict(array([0,0,0,0,0,0,0,0]).reshape(1,-1))[0]"
   ]
  },
  {
   "cell_type": "code",
   "execution_count": null,
   "id": "fc062e66",
   "metadata": {},
   "outputs": [],
   "source": []
  }
 ],
 "metadata": {
  "kernelspec": {
   "display_name": "Python 3 (ipykernel)",
   "language": "python",
   "name": "python3"
  },
  "language_info": {
   "codemirror_mode": {
    "name": "ipython",
    "version": 3
   },
   "file_extension": ".py",
   "mimetype": "text/x-python",
   "name": "python",
   "nbconvert_exporter": "python",
   "pygments_lexer": "ipython3",
   "version": "3.11.5"
  }
 },
 "nbformat": 4,
 "nbformat_minor": 5
}
